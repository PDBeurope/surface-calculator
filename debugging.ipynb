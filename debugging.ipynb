{
 "cells": [
  {
   "cell_type": "code",
   "execution_count": 1,
   "id": "10e24df7",
   "metadata": {},
   "outputs": [],
   "source": [
    "from pathlib import Path\n",
    "import json\n",
    "import numpy as np"
   ]
  },
  {
   "cell_type": "code",
   "execution_count": 12,
   "id": "c40dc6a4",
   "metadata": {},
   "outputs": [],
   "source": [
    "def get_vertices_from_obj(path: str):\n",
    "    lines = [line for line in Path(path).read_text().splitlines() if line.startswith('v ')]\n",
    "    vectors = []\n",
    "    for line in lines:\n",
    "        _, x, y, z = line.split()\n",
    "        vectors.append((float(x), float(y), float(z)))\n",
    "    return np.array(vectors)\n",
    "\n",
    "def get_vertices_from_metadata(path: str):\n",
    "    js = json.loads(Path(path).read_text())\n",
    "    x = js['vertex_properties']['x']\n",
    "    y = js['vertex_properties']['y']\n",
    "    z = js['vertex_properties']['z']\n",
    "    return np.array([x,y,z]).T\n",
    "\n",
    "def print_coords_overview(coords: np.ndarray, title: str | None = None):\n",
    "    if title is not None:\n",
    "        print(title)\n",
    "    print('Shape:', coords.shape)\n",
    "    print('Mean:', coords.mean(axis=0))\n",
    "    print('Min:', coords.min(axis=0))\n",
    "    print('Max:', coords.max(axis=0))\n",
    "    print()\n",
    "\n",
    "def get_atom_coords_from_pdb(path: str):\n",
    "    lines = [line for line in Path(path).read_text().splitlines() if line.startswith('ATOM') or line.startswith('HETATM')]\n",
    "    vectors = []\n",
    "    for line in lines:\n",
    "        x = line[30:38]\n",
    "        y = line[38:46]\n",
    "        z = line[46:54]\n",
    "        vectors.append((float(x), float(y), float(z)))\n",
    "    return np.array(vectors)"
   ]
  },
  {
   "cell_type": "code",
   "execution_count": null,
   "id": "dc74e1eb",
   "metadata": {},
   "outputs": [
    {
     "name": "stdout",
     "output_type": "stream",
     "text": [
      "1a01 atoms\n",
      "Shape: (4738, 3)\n",
      "Mean: [10.34726425 13.23085732 39.93769417]\n",
      "Min: [-22.924 -15.027  10.56 ]\n",
      "Max: [42.757 41.606 69.311]\n",
      "\n",
      "1a01 mesh (surface-calculator)\n",
      "Shape: (211548, 3)\n",
      "Mean: [10.26776839 13.19288278 39.85527178]\n",
      "Min: [-23.913 -16.019  11.095]\n",
      "Max: [43.729 42.575 69.582]\n",
      "\n",
      "1a01 mesh (1a01_fixed.obj)\n",
      "Shape: (211374, 3)\n",
      "Mean: [ 0.35060002  0.01393953 -0.39310429]\n",
      "Min: [-33.82899857 -29.20000076 -29.15200043]\n",
      "Max: [33.81299973 29.3939991  29.33499908]\n",
      "\n",
      "1a01 mesh (manually in Molstar)\n",
      "Shape: (209332, 3)\n",
      "Mean: [ 0.46341979 -0.05719297 -0.5433854 ]\n",
      "Min: [-33.703 -29.239 -29.301]\n",
      "Max: [33.912 29.322 29.189]\n",
      "\n"
     ]
    }
   ],
   "source": [
    "coords_atoms = get_atom_coords_from_pdb('/Users/midlik/Workspace/surface-calculator/tmp/pdb1a01.ent')\n",
    "print_coords_overview(coords_atoms, '1a01 atoms')\n",
    "\n",
    "coords_mesh = get_vertices_from_obj('/Users/midlik/Workspace/surface-calculator/tmp/1a01/1a01.obj')\n",
    "print_coords_overview(coords_mesh, '1a01 mesh (surface-calculator)')\n",
    "\n",
    "coords_mesh = get_vertices_from_obj('/Users/midlik/Workspace/surface-calculator/tmp/1a01_fixed.obj')  # from Sri\n",
    "print_coords_overview(coords_mesh, '1a01 mesh (1a01_fixed.obj)')\n",
    "\n",
    "coords_mesh = get_vertices_from_obj('/Users/midlik/Workspace/surface-calculator/tmp/1a01-manual/1A01.obj')\n",
    "print_coords_overview(coords_mesh, '1a01 mesh (manually in Molstar)')"
   ]
  },
  {
   "cell_type": "code",
   "execution_count": null,
   "id": "1747b527",
   "metadata": {},
   "outputs": [
    {
     "name": "stdout",
     "output_type": "stream",
     "text": [
      "(185080, 3)\n",
      "Mean: [-0.97112968  0.63742721 -2.39723442]\n",
      "Min: [-22.624 -37.896 -31.456]\n",
      "Max: [23.033 37.547 31.413]\n"
     ]
    }
   ],
   "source": [
    "coords_manual = get_vertices_from_obj('/Users/midlik/Downloads/1TQN-surface/1TQN.obj')\n",
    "print_coords_overview(coords_manual)"
   ]
  },
  {
   "cell_type": "code",
   "execution_count": null,
   "id": "5e81e0be",
   "metadata": {},
   "outputs": [
    {
     "name": "stdout",
     "output_type": "stream",
     "text": [
      "(211204, 3)\n",
      "Mean: [18.75362551 40.11440639 18.83023733]\n",
      "Min: [-16.423  10.462 -10.844]\n",
      "Max: [52.435 67.791 48.222]\n"
     ]
    }
   ],
   "source": [
    "coords_calculator = get_vertices_from_obj('/Users/midlik/Workspace/outputs/1hda.obj')\n",
    "print_coords_overview(coords_calculator)"
   ]
  },
  {
   "cell_type": "code",
   "execution_count": null,
   "id": "964ac23a",
   "metadata": {},
   "outputs": [
    {
     "ename": "KeyError",
     "evalue": "'x'",
     "output_type": "error",
     "traceback": [
      "\u001b[0;31m---------------------------------------------------------------------------\u001b[0m",
      "\u001b[0;31mKeyError\u001b[0m                                  Traceback (most recent call last)",
      "Cell \u001b[0;32mIn[47], line 2\u001b[0m\n\u001b[1;32m      1\u001b[0m \u001b[38;5;66;03m# coords_meta = get_coords_from_metadata('/Users/midlik/Workspace/outputs/1tqn-A.metadata.json')\u001b[39;00m\n\u001b[0;32m----> 2\u001b[0m coords_meta \u001b[38;5;241m=\u001b[39m \u001b[43mget_coords_from_metadata\u001b[49m\u001b[43m(\u001b[49m\u001b[38;5;124;43m'\u001b[39;49m\u001b[38;5;124;43m/Users/midlik/Workspace/outputs/1hda.metadata.json\u001b[39;49m\u001b[38;5;124;43m'\u001b[39;49m\u001b[43m)\u001b[49m\n\u001b[1;32m      3\u001b[0m print_coords_overview(coords_meta)\n",
      "Cell \u001b[0;32mIn[18], line 17\u001b[0m, in \u001b[0;36mget_coords_from_metadata\u001b[0;34m(path)\u001b[0m\n\u001b[1;32m     15\u001b[0m \u001b[38;5;28;01mdef\u001b[39;00m \u001b[38;5;21mget_coords_from_metadata\u001b[39m(path: \u001b[38;5;28mstr\u001b[39m):\n\u001b[1;32m     16\u001b[0m     js \u001b[38;5;241m=\u001b[39m json\u001b[38;5;241m.\u001b[39mloads(Path(path)\u001b[38;5;241m.\u001b[39mread_text())\n\u001b[0;32m---> 17\u001b[0m     x \u001b[38;5;241m=\u001b[39m \u001b[43mjs\u001b[49m\u001b[43m[\u001b[49m\u001b[38;5;124;43m'\u001b[39;49m\u001b[38;5;124;43mvertex_properties\u001b[39;49m\u001b[38;5;124;43m'\u001b[39;49m\u001b[43m]\u001b[49m\u001b[43m[\u001b[49m\u001b[38;5;124;43m'\u001b[39;49m\u001b[38;5;124;43mx\u001b[39;49m\u001b[38;5;124;43m'\u001b[39;49m\u001b[43m]\u001b[49m\n\u001b[1;32m     18\u001b[0m     y \u001b[38;5;241m=\u001b[39m js[\u001b[38;5;124m'\u001b[39m\u001b[38;5;124mvertex_properties\u001b[39m\u001b[38;5;124m'\u001b[39m][\u001b[38;5;124m'\u001b[39m\u001b[38;5;124my\u001b[39m\u001b[38;5;124m'\u001b[39m]\n\u001b[1;32m     19\u001b[0m     z \u001b[38;5;241m=\u001b[39m js[\u001b[38;5;124m'\u001b[39m\u001b[38;5;124mvertex_properties\u001b[39m\u001b[38;5;124m'\u001b[39m][\u001b[38;5;124m'\u001b[39m\u001b[38;5;124mz\u001b[39m\u001b[38;5;124m'\u001b[39m]\n",
      "\u001b[0;31mKeyError\u001b[0m: 'x'"
     ]
    }
   ],
   "source": [
    "coords_meta = get_vertices_from_metadata('/Users/midlik/Workspace/outputs/1hda.metadata.json')\n",
    "print_coords_overview(coords_meta)"
   ]
  },
  {
   "cell_type": "code",
   "execution_count": 46,
   "id": "c3151472",
   "metadata": {},
   "outputs": [
    {
     "name": "stdout",
     "output_type": "stream",
     "text": [
      "(211204, 3)\n",
      "Mean: [ 8.29825151e-06 -8.90804073e-04  7.68234429e-05]\n",
      "Min: [-0.00047556 -0.00117499 -0.00027271]\n",
      "Max: [ 0.00052441 -0.00017502  0.00072726]\n",
      "[0.00016491 0.00022632 0.00019952]\n"
     ]
    }
   ],
   "source": [
    "diff = coords_calculator - coords_meta\n",
    "print_coords_overview(diff)\n",
    "print(diff.std(axis=0))"
   ]
  },
  {
   "cell_type": "code",
   "execution_count": null,
   "id": "1fbd4011",
   "metadata": {},
   "outputs": [],
   "source": []
  }
 ],
 "metadata": {
  "kernelspec": {
   "display_name": "Python 3",
   "language": "python",
   "name": "python3"
  },
  "language_info": {
   "codemirror_mode": {
    "name": "ipython",
    "version": 3
   },
   "file_extension": ".py",
   "mimetype": "text/x-python",
   "name": "python",
   "nbconvert_exporter": "python",
   "pygments_lexer": "ipython3",
   "version": "3.10.16"
  }
 },
 "nbformat": 4,
 "nbformat_minor": 5
}
